{
 "cells": [
  {
   "cell_type": "code",
   "execution_count": 1,
   "metadata": {},
   "outputs": [
    {
     "name": "stdout",
     "output_type": "stream",
     "text": [
      "Data has been saved to recent_changes.csv\n"
     ]
    }
   ],
   "source": [
    "import csv\n",
    "import re\n",
    "import requests\n",
    "from bs4 import BeautifulSoup\n",
    "\n",
    "# URL of the Recent Changes page\n",
    "url = \"https://en.wikipedia.org/wiki/Special:RecentChanges?hidebots=1&hidecategorization=1&hideWikibase=1&limit=5000&days=150&urlversion=2\"\n",
    "\n",
    "# Send a GET request to the URL\n",
    "response = requests.get(url)\n",
    "\n",
    "# Check if the request was successful\n",
    "if response.status_code == 200:\n",
    "    # Parse the HTML content\n",
    "    soup = BeautifulSoup(response.content, \"html.parser\")\n",
    "    \n",
    "    # Find all list items with class 'mw-changeslist-line'\n",
    "    changes = soup.find_all(\"li\", class_=\"mw-changeslist-line\")\n",
    "    \n",
    "    # Create a list to store data\n",
    "    data = []\n",
    "    \n",
    "    # Extract revision IDs and titles for each recent change\n",
    "    for change in changes:\n",
    "        # Find the link within the list item\n",
    "        link = change.find(\"a\")\n",
    "        if link:\n",
    "            # Extract the href attribute if it exists\n",
    "            href = link.get(\"href\")\n",
    "            # Extract the numerical part of the revision ID from the href attribute\n",
    "            match = re.search(r\"\\d+$\", href)\n",
    "            revision_id = match.group() if match else \"Unknown\"\n",
    "        else:\n",
    "            revision_id = \"Unknown\"\n",
    "        \n",
    "        # Find the title of the article within the relevant span tag\n",
    "        title_span = change.find(\"span\", class_=\"mw-title\")\n",
    "        title = title_span.get_text() if title_span else \"Unknown Title\"\n",
    "        \n",
    "        # Append data to the list\n",
    "        data.append({ \"Revision ID\": revision_id,\"Title\": title})\n",
    "        \n",
    "    # Write data to CSV file\n",
    "    with open(\"recent_changes.csv\", \"w\", newline=\"\", encoding=\"utf-8\") as csvfile:\n",
    "        fieldnames = [ \"Revision ID\",\"Title\"]\n",
    "        writer = csv.DictWriter(csvfile, fieldnames=fieldnames)\n",
    "        \n",
    "        # Write header\n",
    "        writer.writeheader()\n",
    "        \n",
    "        # Write data rows\n",
    "        for row in data:\n",
    "            writer.writerow(row)\n",
    "    \n",
    "    print(\"Data has been saved to recent_changes.csv\")\n",
    "else:\n",
    "    print(\"Error:\", response.status_code)\n"
   ]
  },
  {
   "cell_type": "code",
   "execution_count": 2,
   "metadata": {},
   "outputs": [
    {
     "name": "stdout",
     "output_type": "stream",
     "text": [
      "Filtered data written to filtered_recent_changes.csv\n"
     ]
    }
   ],
   "source": [
    "import csv\n",
    "\n",
    "# Function to filter rows with \"unknown\" value in the first column\n",
    "def filter_unknown_rows(input_file, output_file):\n",
    "    with open(input_file, 'r', newline='', encoding='utf-8') as csvfile:\n",
    "        reader = csv.reader(csvfile)\n",
    "        rows = [row for row in reader if row[0] != 'Unknown']\n",
    "\n",
    "    with open(output_file, 'w', newline='', encoding='utf-8') as csvfile:\n",
    "        writer = csv.writer(csvfile)\n",
    "        writer.writerows(rows)\n",
    "\n",
    "# File names\n",
    "input_file = 'recent_changes.csv'\n",
    "output_file = 'filtered_recent_changes.csv'\n",
    "\n",
    "# Filter rows and write to new file\n",
    "filter_unknown_rows(input_file, output_file)\n",
    "\n",
    "print(\"Filtered data written to\", output_file)\n"
   ]
  },
  {
   "cell_type": "code",
   "execution_count": null,
   "metadata": {},
   "outputs": [],
   "source": []
  }
 ],
 "metadata": {
  "kernelspec": {
   "display_name": "Python 3",
   "language": "python",
   "name": "python3"
  },
  "language_info": {
   "codemirror_mode": {
    "name": "ipython",
    "version": 3
   },
   "file_extension": ".py",
   "mimetype": "text/x-python",
   "name": "python",
   "nbconvert_exporter": "python",
   "pygments_lexer": "ipython3",
   "version": "3.9.12"
  }
 },
 "nbformat": 4,
 "nbformat_minor": 2
}
